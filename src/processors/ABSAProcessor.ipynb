{
 "cells": [
  {
   "cell_type": "code",
   "execution_count": 33,
   "metadata": {},
   "outputs": [],
   "source": [
    "import os\n",
    "import json\n",
    "from transformers import InputExample, DataProcessor"
   ]
  },
  {
   "cell_type": "code",
   "execution_count": 34,
   "metadata": {},
   "outputs": [],
   "source": [
    "class ABSAProcessor(DataProcessor):\n",
    "    \"\"\"Processor for the XNLI dataset.\n",
    "    Adapted from https://github.com/google-research/bert/blob/f39e881b169b9d53bea03d2d341b31707a6c052b/run_classifier.py#L207\"\"\"\n",
    "\n",
    "    def __init__(self):\n",
    "        self.labels = ['-3','-2','-1','0','1','2','3']\n",
    "        \n",
    "    def load_data_jsonl(self, data_path):\n",
    "        with open(data_path, 'r') as file:\n",
    "            lines = file.readlines()\n",
    "\n",
    "        dataset = []\n",
    "\n",
    "        for line in lines:\n",
    "            data = json.loads(line.replace('\\'', '\\\"'))\n",
    "            dataset.append(data)  \n",
    "            \n",
    "        return dataset\n",
    "\n",
    "    def get_train_examples(self, data_dir):\n",
    "        \"\"\"See base class.\"\"\"\n",
    "        \n",
    "        dataset = self.load_data_jsonl(os.path.join(data_dir,\"food_train.jsonl\"))\n",
    "        examples = []\n",
    "        \n",
    "        for i,entry in enumerate(dataset):\n",
    "            \n",
    "            guid = f'train-r{entry[\"review_id\"]}-e{entry[\"example_id\"]}'\n",
    "            text_a = entry[\"review\"]\n",
    "            text_b = entry[\"question\"]\n",
    "            label = str(entry[\"label\"])\n",
    "            \n",
    "            if label not in self.labels:\n",
    "                continue\n",
    "            \n",
    "            assert isinstance(text_a, str), f\"Training input {text_a} is not a string\"\n",
    "            assert isinstance(text_b, str), f\"Training input {text_b} is not a string\"\n",
    "            assert isinstance(label, str), f\"Training label {label} is not a string\"\n",
    "            example = InputExample(guid=guid, text_a=text_a, text_b=text_b, label=label)\n",
    "            \n",
    "#             if i < 10:\n",
    "#                 print(example)\n",
    "            \n",
    "            examples.append(example)\n",
    "        \n",
    "        return examples\n",
    " \n",
    "\n",
    "    def get_dev_examples(self, data_dir):\n",
    "        \"\"\"See base class.\"\"\"\n",
    "        \n",
    "        dataset = self.load_data_jsonl(os.path.join(data_dir,\"food_dev.jsonl\"))\n",
    "        \n",
    "        examples = []\n",
    "        \n",
    "        for i,entry in enumerate(dataset):\n",
    "            \n",
    "            guid = f'dev-r{entry[\"review_id\"]}-e{entry[\"example_id\"]}'\n",
    "            text_a = entry[\"review\"]\n",
    "            text_b = entry[\"question\"]\n",
    "            label = str(entry[\"label\"])\n",
    "            \n",
    "            if label not in self.labels:\n",
    "                continue\n",
    "            \n",
    "            assert isinstance(text_a, str), f\"Training input {text_a} is not a string\"\n",
    "            assert isinstance(text_b, str), f\"Training input {text_b} is not a string\"\n",
    "            assert isinstance(label, str), f\"Training label {label} is not a string\"\n",
    "            example = InputExample(guid=guid, text_a=text_a, text_b=text_b, label=label)\n",
    "            \n",
    "#             if i < 10:\n",
    "#                 print(example)\n",
    "            \n",
    "            examples.append(example)\n",
    "        \n",
    "        return examples\n",
    "    \n",
    "    def get_test_examples(self, data_dir):\n",
    "        \"\"\"See base class.\"\"\"\n",
    "        \n",
    "        dataset = self.load_data_jsonl(os.path.join(data_dir,\"food_test.jsonl\"))\n",
    "        \n",
    "        examples = []\n",
    "        \n",
    "        for i,entry in enumerate(dataset):\n",
    "            \n",
    "            guid = f'test-r{entry[\"review_id\"]}-e{entry[\"example_id\"]}'\n",
    "            text_a = entry[\"review\"]\n",
    "            text_b = entry[\"question\"]\n",
    "            label = str(entry[\"label\"])\n",
    "            \n",
    "            if label not in self.labels:\n",
    "                continue\n",
    "            \n",
    "            assert isinstance(text_a, str), f\"Training input {text_a} is not a string\"\n",
    "            assert isinstance(text_b, str), f\"Training input {text_b} is not a string\"\n",
    "            assert isinstance(label, str), f\"Training label {label} is not a string\"\n",
    "            example = InputExample(guid=guid, text_a=text_a, text_b=text_b, label=label)\n",
    "            \n",
    "#             if i < 10:\n",
    "#                 print(example)\n",
    "            \n",
    "            examples.append(example)\n",
    "        \n",
    "        return examples\n",
    "\n",
    "    def get_labels(self):\n",
    "        \"\"\"See base class.\"\"\"\n",
    "        return self.labels"
   ]
  },
  {
   "cell_type": "code",
   "execution_count": 36,
   "metadata": {},
   "outputs": [],
   "source": [
    "train = ABSAProcessor().get_train_examples('../../data/sentiment-analysis/')"
   ]
  },
  {
   "cell_type": "code",
   "execution_count": 37,
   "metadata": {},
   "outputs": [
    {
     "data": {
      "text/plain": [
       "[InputExample(guid='train-r1-e1', text_a='طعم خیلی خوبی داره و توضیحات کالا کاملا با خود محصول مطابقت داشت', text_b='نظر شما در مورد بسته بندی محصول چیست؟', label='-3'),\n",
       " InputExample(guid='train-r1-e2', text_a='طعم خیلی خوبی داره و توضیحات کالا کاملا با خود محصول مطابقت داشت', text_b='نظر شما در مورد ارش خرید محصول چیست؟', label='-3'),\n",
       " InputExample(guid='train-r1-e3', text_a='طعم خیلی خوبی داره و توضیحات کالا کاملا با خود محصول مطابقت داشت', text_b='نظر شما در مورد کیفیت محصول چیست؟', label='-3'),\n",
       " InputExample(guid='train-r1-e4', text_a='طعم خیلی خوبی داره و توضیحات کالا کاملا با خود محصول مطابقت داشت', text_b='نظر شما در مورد بسته نبدی محصول چیست؟', label='-3'),\n",
       " InputExample(guid='train-r1-e5', text_a='طعم خیلی خوبی داره و توضیحات کالا کاملا با خود محصول مطابقت داشت', text_b='نظر شما در مورد گیفیت محصول چیست؟', label='-3')]"
      ]
     },
     "execution_count": 37,
     "metadata": {},
     "output_type": "execute_result"
    }
   ],
   "source": [
    "train[0:5]"
   ]
  },
  {
   "cell_type": "code",
   "execution_count": null,
   "metadata": {},
   "outputs": [],
   "source": []
  }
 ],
 "metadata": {
  "kernelspec": {
   "display_name": "Python 3",
   "language": "python",
   "name": "python3"
  },
  "language_info": {
   "codemirror_mode": {
    "name": "ipython",
    "version": 3
   },
   "file_extension": ".py",
   "mimetype": "text/x-python",
   "name": "python",
   "nbconvert_exporter": "python",
   "pygments_lexer": "ipython3",
   "version": "3.7.2"
  }
 },
 "nbformat": 4,
 "nbformat_minor": 4
}
