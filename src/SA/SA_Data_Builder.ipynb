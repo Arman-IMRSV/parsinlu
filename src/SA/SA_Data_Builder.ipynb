{
 "cells": [
  {
   "cell_type": "code",
   "execution_count": 1,
   "metadata": {},
   "outputs": [
    {
     "name": "stdout",
     "output_type": "stream",
     "text": [
      "\u001b[H\u001b[2J"
     ]
    }
   ],
   "source": [
    "!pip install -Uqq scikit-learn nltk"
   ]
  },
  {
   "cell_type": "code",
   "execution_count": 1,
   "metadata": {},
   "outputs": [],
   "source": [
    "import json\n",
    "from sklearn.model_selection import train_test_split\n",
    "import numpy as np\n",
    "import nltk\n",
    "import random"
   ]
  },
  {
   "cell_type": "markdown",
   "metadata": {},
   "source": [
    "#### Loading Data"
   ]
  },
  {
   "cell_type": "code",
   "execution_count": 42,
   "metadata": {},
   "outputs": [],
   "source": [
    "domain_name = 'food'\n",
    "with open(domain_name+'.jsonl', 'r') as file:\n",
    "    lines = file.readlines()\n",
    "\n",
    "raw_dataset = []\n",
    "\n",
    "for i,line in enumerate(lines):\n",
    "    try:\n",
    "        data = json.loads(line.replace('\\'', '\\\"'))\n",
    "        raw_dataset.append(data)\n",
    "        data['review'] = data['review'].replace('\\\"','')\n",
    "        data['review'] = data['review'].replace(\"\\'\",'')\n",
    "        data['excel_id'] = domain_name+'_'+str(int(i+1))\n",
    "    except:\n",
    "        print(i)"
   ]
  },
  {
   "cell_type": "code",
   "execution_count": 43,
   "metadata": {},
   "outputs": [
    {
     "name": "stdout",
     "output_type": "stream",
     "text": [
      "dataset size is 1917\n"
     ]
    }
   ],
   "source": [
    "raw_dataset_size = len(raw_dataset)\n",
    "print(f'dataset size is {raw_dataset_size}')"
   ]
  },
  {
   "cell_type": "markdown",
   "metadata": {},
   "source": [
    "#### extracting aspects"
   ]
  },
  {
   "cell_type": "code",
   "execution_count": 44,
   "metadata": {},
   "outputs": [],
   "source": [
    "aspects_set = set()"
   ]
  },
  {
   "cell_type": "code",
   "execution_count": 45,
   "metadata": {},
   "outputs": [],
   "source": [
    "for i, example in enumerate(raw_dataset):\n",
    "    aspects = list(example['aspects'].keys())\n",
    "    aspects_set.update(aspects)"
   ]
  },
  {
   "cell_type": "code",
   "execution_count": 46,
   "metadata": {},
   "outputs": [
    {
     "data": {
      "text/plain": [
       "{'ارزش خرید', 'ارزش غذایی', 'ارسال', 'بسته بندی', 'طعم', 'کیفیت'}"
      ]
     },
     "execution_count": 46,
     "metadata": {},
     "output_type": "execute_result"
    }
   ],
   "source": [
    "aspects_set"
   ]
  },
  {
   "cell_type": "code",
   "execution_count": 47,
   "metadata": {},
   "outputs": [
    {
     "data": {
      "text/plain": [
       "{'review': 'اصلا شیرین نیست یه کمی هم بوی سوختگی می ده',\n",
       " 'sentiment': '-2',\n",
       " 'category': 'حلوا شکری، ارده و کنجد',\n",
       " 'aspects': {'طعم': '-2'},\n",
       " 'excel_id': 'food_52'}"
      ]
     },
     "execution_count": 47,
     "metadata": {},
     "output_type": "execute_result"
    }
   ],
   "source": [
    "raw_dataset[51]"
   ]
  },
  {
   "cell_type": "code",
   "execution_count": 48,
   "metadata": {},
   "outputs": [],
   "source": [
    "for entry in raw_dataset:\n",
    "    if 'category' not in entry:\n",
    "        print(entry['review_id'])\n",
    "        raise Exception(entry['review'] + \" does not have any category associated\")"
   ]
  },
  {
   "cell_type": "markdown",
   "metadata": {},
   "source": [
    "#### Defining Questions for aspects"
   ]
  },
  {
   "cell_type": "code",
   "execution_count": 49,
   "metadata": {},
   "outputs": [],
   "source": [
    "aspects_candidate_words = {\n",
    "    # For Foods\"\n",
    "    \"ارزش خرید\" : \"قیمت و ارزش خرید\",\n",
    "    \"بسته بندی\" : \"بسته بندی و نگهداری\",\n",
    "    \"ارسال\" : \"ارسال و حمل و نقل\",\n",
    "    \"کیفیت\" : \"کیفیت و تازگی\",\n",
    "    \"ارزش غذایی\" : \"سلامت و ارزش غذایی\",\n",
    "    \"طعم\" : \"عطر، بو، و طعم\",\n",
    "    # For Movies:\n",
    "    \"صدا\" : \"صداگذاری و جلوه های صوتی\",\n",
    "    \"موسیقی\" : \"موسیقی\",\n",
    "    \"داستان\" : \"داستان، فیلمنامه، دیالوگ ها و موضوع\",\n",
    "    \"صحنه\" : \"گریم، طراحی صحنه و جلوه های ویژه ی بصری\",\n",
    "    \"کارگردانی\" : \"تهیه، تدوین، کارگردانی و ساخت\",\n",
    "    \"فیلمبرداری\" : \"فیلمبرداری و تصویربرداری\",\n",
    "    \"بازی\" : \"شخصیت پردازی، بازیگردانی و بازی بازیگران\"\n",
    "}"
   ]
  },
  {
   "cell_type": "code",
   "execution_count": 50,
   "metadata": {},
   "outputs": [],
   "source": [
    "aspects_questions = {}\n",
    "for aspect in list(aspects_set):\n",
    "    aspects_questions[aspect] = f'نظر شما در مورد {aspects_candidate_words[aspect]} این محصول چیست؟'"
   ]
  },
  {
   "cell_type": "code",
   "execution_count": 51,
   "metadata": {},
   "outputs": [],
   "source": [
    "general_aspect_label = 'کلی'\n",
    "aspects_questions[general_aspect_label] = 'نظر شما به صورت کلی در مورد این محصول چیست؟'"
   ]
  },
  {
   "cell_type": "code",
   "execution_count": 52,
   "metadata": {},
   "outputs": [
    {
     "data": {
      "text/plain": [
       "{'ارزش غذایی': 'نظر شما در مورد سلامت و ارزش غذایی این محصول چیست؟',\n",
       " 'طعم': 'نظر شما در مورد عطر، بو، و طعم این محصول چیست؟',\n",
       " 'کیفیت': 'نظر شما در مورد کیفیت و تازگی این محصول چیست؟',\n",
       " 'ارزش خرید': 'نظر شما در مورد قیمت و ارزش خرید این محصول چیست؟',\n",
       " 'ارسال': 'نظر شما در مورد ارسال و حمل و نقل این محصول چیست؟',\n",
       " 'بسته بندی': 'نظر شما در مورد بسته بندی و نگهداری این محصول چیست؟',\n",
       " 'کلی': 'نظر شما به صورت کلی در مورد این محصول چیست؟'}"
      ]
     },
     "execution_count": 52,
     "metadata": {},
     "output_type": "execute_result"
    }
   ],
   "source": [
    "aspects_questions"
   ]
  },
  {
   "cell_type": "markdown",
   "metadata": {},
   "source": [
    "### Spliting Data"
   ]
  },
  {
   "cell_type": "code",
   "execution_count": 53,
   "metadata": {},
   "outputs": [],
   "source": [
    "NONE_LABEL = -3"
   ]
  },
  {
   "cell_type": "code",
   "execution_count": 54,
   "metadata": {},
   "outputs": [],
   "source": [
    "X = []\n",
    "y = []\n",
    "for rec in raw_dataset:\n",
    "    X.append ({k:rec[k] for k in ('review','review_id','aspects','category','excel_id') if k in rec})\n",
    "    y.append(rec['sentiment'])"
   ]
  },
  {
   "cell_type": "code",
   "execution_count": 55,
   "metadata": {},
   "outputs": [
    {
     "data": {
      "text/plain": [
       "({'review': 'من یه مدته فقط از این محصول استفاده میکنم اما جدیدا دونه هاش درشت شده،و روی خود محصول هم نوشته تراریخته.',\n",
       "  'aspects': {},\n",
       "  'category': 'حبوبات و سویا',\n",
       "  'excel_id': 'food_1'},\n",
       " '3')"
      ]
     },
     "execution_count": 55,
     "metadata": {},
     "output_type": "execute_result"
    }
   ],
   "source": [
    "X[0],y[0]"
   ]
  },
  {
   "cell_type": "code",
   "execution_count": 56,
   "metadata": {},
   "outputs": [],
   "source": [
    "test_dev_size_dic = {'movie':(0.2,0.11),'food':(0.1,0.11)}"
   ]
  },
  {
   "cell_type": "code",
   "execution_count": 57,
   "metadata": {},
   "outputs": [],
   "source": [
    "X_train, X_test, y_train, y_test = train_test_split(X, y, test_size=test_dev_size_dic[domain_name][0], random_state=12, stratify=y)"
   ]
  },
  {
   "cell_type": "code",
   "execution_count": 58,
   "metadata": {
    "scrolled": true
   },
   "outputs": [],
   "source": [
    "X_train, X_valid, y_train, y_valid = train_test_split(X_train, y_train, test_size=test_dev_size_dic[domain_name][1], random_state=12, stratify=y_train)"
   ]
  },
  {
   "cell_type": "code",
   "execution_count": 59,
   "metadata": {},
   "outputs": [
    {
     "data": {
      "text/plain": [
       "(1535, 192, 190)"
      ]
     },
     "execution_count": 59,
     "metadata": {},
     "output_type": "execute_result"
    }
   ],
   "source": [
    "len(X_train),len(X_test),len(X_valid)"
   ]
  },
  {
   "cell_type": "code",
   "execution_count": 60,
   "metadata": {
    "scrolled": true
   },
   "outputs": [
    {
     "data": {
      "text/plain": [
       "({'review': 'دوستان حتما دقت کنید درقسمت فیله تکه های سبز رنگ داشت که نشان دهنده انتیبیوتیک هایی هست که به مرغ ها میدن و اون تکه سمیه. بیشترشم استخونه من راضی نبودم و دیگه ازین مارو خرید نمیکنم',\n",
       "  'aspects': {'ارزش غذایی': '-2', 'کیفیت': '-2'},\n",
       "  'category': 'گوشت مرغ',\n",
       "  'excel_id': 'food_1744'},\n",
       " '-2')"
      ]
     },
     "execution_count": 60,
     "metadata": {},
     "output_type": "execute_result"
    }
   ],
   "source": [
    "X_train[0],y_train[0]"
   ]
  },
  {
   "cell_type": "markdown",
   "metadata": {},
   "source": [
    "### Setting Review_ID"
   ]
  },
  {
   "cell_type": "code",
   "execution_count": 61,
   "metadata": {},
   "outputs": [],
   "source": [
    "review_id_counter=1\n",
    "for x in X_train + X_valid + X_test:\n",
    "    x['review_id'] = review_id_counter\n",
    "    review_id_counter+=1"
   ]
  },
  {
   "cell_type": "code",
   "execution_count": 62,
   "metadata": {},
   "outputs": [
    {
     "data": {
      "text/plain": [
       "{'review': 'کلا که نوشابه محصول مفیدی نیست. اما اونایی که استفاده دارند توی شگفت قیمتش خوبه.',\n",
       " 'aspects': {'ارزش غذایی': '-1', 'ارزش خرید': '1'},\n",
       " 'category': 'نوشابه',\n",
       " 'excel_id': 'food_5',\n",
       " 'review_id': 1537}"
      ]
     },
     "execution_count": 62,
     "metadata": {},
     "output_type": "execute_result"
    }
   ],
   "source": [
    "X_valid[1]"
   ]
  },
  {
   "cell_type": "markdown",
   "metadata": {},
   "source": [
    "### calculating similarities:"
   ]
  },
  {
   "cell_type": "code",
   "execution_count": 63,
   "metadata": {},
   "outputs": [],
   "source": [
    "# bleu_avg = 0\n",
    "# for entry_1 in X_train:\n",
    "#     for entry_2 in X_test:\n",
    "#         bleu_avg += nltk.translate.bleu_score.sentence_bleu(references=[entry_1['review']],hypothesis=entry_2['review'])\n",
    "        \n",
    "# bleu_avg = bleu_avg / (len(X_train)*len(X_test))\n",
    "# print(f\"BLEU = {bleu_avg}\")"
   ]
  },
  {
   "cell_type": "markdown",
   "metadata": {},
   "source": [
    "#### Putting X and y together:"
   ]
  },
  {
   "cell_type": "code",
   "execution_count": 64,
   "metadata": {},
   "outputs": [],
   "source": [
    "raw_dataset_dic = dict()\n",
    "for entry in zip(X_train,y_train):\n",
    "    entry[0].update({'sentiment':entry[1]})\n",
    "    \n",
    "for entry in zip(X_test,y_test):\n",
    "    entry[0].update({'sentiment':entry[1]})\n",
    "    \n",
    "for entry in zip(X_valid,y_valid):\n",
    "    entry[0].update({'sentiment':entry[1]})"
   ]
  },
  {
   "cell_type": "code",
   "execution_count": 65,
   "metadata": {},
   "outputs": [],
   "source": [
    "raw_dataset_dic = {\n",
    "    'train': X_train,\n",
    "    'test': X_test,\n",
    "    'dev': X_valid\n",
    "}"
   ]
  },
  {
   "cell_type": "code",
   "execution_count": 66,
   "metadata": {},
   "outputs": [],
   "source": [
    "assert sum([len(dataset) for dataset in raw_dataset_dic.values()]) == raw_dataset_size"
   ]
  },
  {
   "cell_type": "markdown",
   "metadata": {},
   "source": [
    "#### Creating new QA-ABSA dataset"
   ]
  },
  {
   "cell_type": "code",
   "execution_count": 67,
   "metadata": {},
   "outputs": [],
   "source": [
    "def gen_question(aspect,aspects_questions,example,domain_name:str):\n",
    "    \n",
    "    if domain_name.lower()=='food':\n",
    "        question = aspects_questions[aspect].replace('محصول',example['category'])\n",
    "        \n",
    "    elif domain_name.lower()=='movie':\n",
    "        question = aspects_questions[aspect].replace('این محصول','فیلم ' + example['category'])\n",
    "\n",
    "    else:\n",
    "        raise Exception('Domain is not supported')\n",
    "        \n",
    "    return question"
   ]
  },
  {
   "cell_type": "code",
   "execution_count": 68,
   "metadata": {
    "scrolled": true
   },
   "outputs": [],
   "source": [
    "dataset_ABSA = {'train':list(),'dev':list(),'test':list()}\n",
    "for dataset_name, dataset in raw_dataset_dic.items():\n",
    "\n",
    "    for example in dataset:\n",
    "        \n",
    "        product_aspects = example['aspects'].keys()\n",
    "\n",
    "        #aspect sentiments\n",
    "        i=1\n",
    "        for aspect in aspects_set:\n",
    "            entry = {'review': example['review'],\n",
    "                     'review_id': str(example['review_id']),\n",
    "                     'example_id': str(i),\n",
    "                     'excel_id':example['excel_id'],\n",
    "                     'question': gen_question(aspect,aspects_questions,example,domain_name),\n",
    "                     'category': example['category'],\n",
    "                     'aspect': aspect,\n",
    "                     'label': str(example['aspects'][aspect] if aspect in product_aspects else NONE_LABEL)\n",
    "                    }\n",
    "            \n",
    "            dataset_ABSA[dataset_name].append(entry)\n",
    "            i+=1\n",
    "\n",
    "        # overal sentiment\n",
    "        entry = {'review': example['review'],\n",
    "                 'review_id': str(example['review_id']),\n",
    "                 'example_id': str(i),\n",
    "                 'excel_id':example['excel_id'],\n",
    "                 'question': gen_question(general_aspect_label,aspects_questions,example,domain_name),\n",
    "                 'category': example['category'],\n",
    "                 'aspect': general_aspect_label,\n",
    "                 'label': str(example['sentiment'])\n",
    "                }\n",
    "        \n",
    "        dataset_ABSA[dataset_name].append(entry)"
   ]
  },
  {
   "cell_type": "code",
   "execution_count": 69,
   "metadata": {},
   "outputs": [
    {
     "data": {
      "text/plain": [
       "[{'review': 'دوستان حتما دقت کنید درقسمت فیله تکه های سبز رنگ داشت که نشان دهنده انتیبیوتیک هایی هست که به مرغ ها میدن و اون تکه سمیه. بیشترشم استخونه من راضی نبودم و دیگه ازین مارو خرید نمیکنم',\n",
       "  'review_id': '1',\n",
       "  'example_id': '1',\n",
       "  'excel_id': 'food_1744',\n",
       "  'question': 'نظر شما در مورد سلامت و ارزش غذایی این گوشت مرغ چیست؟',\n",
       "  'category': 'گوشت مرغ',\n",
       "  'aspect': 'ارزش غذایی',\n",
       "  'label': '-2'},\n",
       " {'review': 'دوستان حتما دقت کنید درقسمت فیله تکه های سبز رنگ داشت که نشان دهنده انتیبیوتیک هایی هست که به مرغ ها میدن و اون تکه سمیه. بیشترشم استخونه من راضی نبودم و دیگه ازین مارو خرید نمیکنم',\n",
       "  'review_id': '1',\n",
       "  'example_id': '2',\n",
       "  'excel_id': 'food_1744',\n",
       "  'question': 'نظر شما در مورد عطر، بو، و طعم این گوشت مرغ چیست؟',\n",
       "  'category': 'گوشت مرغ',\n",
       "  'aspect': 'طعم',\n",
       "  'label': '-3'},\n",
       " {'review': 'دوستان حتما دقت کنید درقسمت فیله تکه های سبز رنگ داشت که نشان دهنده انتیبیوتیک هایی هست که به مرغ ها میدن و اون تکه سمیه. بیشترشم استخونه من راضی نبودم و دیگه ازین مارو خرید نمیکنم',\n",
       "  'review_id': '1',\n",
       "  'example_id': '3',\n",
       "  'excel_id': 'food_1744',\n",
       "  'question': 'نظر شما در مورد کیفیت و تازگی این گوشت مرغ چیست؟',\n",
       "  'category': 'گوشت مرغ',\n",
       "  'aspect': 'کیفیت',\n",
       "  'label': '-2'}]"
      ]
     },
     "execution_count": 69,
     "metadata": {},
     "output_type": "execute_result"
    }
   ],
   "source": [
    "dataset_ABSA['train'][0:3]"
   ]
  },
  {
   "cell_type": "markdown",
   "metadata": {},
   "source": [
    "#### Adding ID labeles"
   ]
  },
  {
   "cell_type": "code",
   "execution_count": 70,
   "metadata": {},
   "outputs": [],
   "source": [
    "for dataset_name, dataset in dataset_ABSA.items():\n",
    "    for i, example in enumerate(dataset):\n",
    "        example['guid'] = f'{domain_name}-{dataset_name}-r{example[\"review_id\"]}-e{example[\"example_id\"]}'"
   ]
  },
  {
   "cell_type": "markdown",
   "metadata": {},
   "source": [
    "#### Saving Data"
   ]
  },
  {
   "cell_type": "code",
   "execution_count": 71,
   "metadata": {},
   "outputs": [
    {
     "name": "stdout",
     "output_type": "stream",
     "text": [
      "DONE\n"
     ]
    }
   ],
   "source": [
    "for dataset_name, dataset in dataset_ABSA.items():\n",
    "    \n",
    "    with open(f'{domain_name}_{dataset_name}.jsonl', 'w') as f:\n",
    "        \n",
    "        for example in dataset:\n",
    "            \n",
    "#             f.write(\"%s\\n\" % annotation)\n",
    "            f.write(f'{example}\\n')\n",
    "print('DONE')"
   ]
  },
  {
   "cell_type": "markdown",
   "metadata": {},
   "source": [
    "### Merging the two datasets:"
   ]
  },
  {
   "cell_type": "code",
   "execution_count": 72,
   "metadata": {},
   "outputs": [],
   "source": [
    "for dataset_split_name in ['train']:\n",
    "    with open (f'ABSA_Dataset_{dataset_split_name}.jsonl','w') as out_file:\n",
    "        for domain in ['food','movie']:\n",
    "            with open (f'{domain}_{dataset_split_name}.jsonl') as in_file:\n",
    "                for line in in_file.readlines():\n",
    "                    out_file.write(line.strip()+'\\n')"
   ]
  },
  {
   "cell_type": "code",
   "execution_count": null,
   "metadata": {},
   "outputs": [],
   "source": []
  }
 ],
 "metadata": {
  "kernelspec": {
   "display_name": "Python 3",
   "language": "python",
   "name": "python3"
  },
  "language_info": {
   "codemirror_mode": {
    "name": "ipython",
    "version": 3
   },
   "file_extension": ".py",
   "mimetype": "text/x-python",
   "name": "python",
   "nbconvert_exporter": "python",
   "pygments_lexer": "ipython3",
   "version": "3.7.8"
  }
 },
 "nbformat": 4,
 "nbformat_minor": 4
}
