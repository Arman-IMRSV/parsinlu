{
 "cells": [
  {
   "cell_type": "code",
   "execution_count": 1,
   "metadata": {},
   "outputs": [
    {
     "name": "stdout",
     "output_type": "stream",
     "text": [
      "\u001b[H\u001b[2J"
     ]
    }
   ],
   "source": [
    "!pip install -Uqq scikit-learn nltk"
   ]
  },
  {
   "cell_type": "code",
   "execution_count": 235,
   "metadata": {},
   "outputs": [],
   "source": [
    "import json\n",
    "from sklearn.model_selection import train_test_split\n",
    "import numpy as np\n",
    "import nltk\n",
    "import random"
   ]
  },
  {
   "cell_type": "markdown",
   "metadata": {},
   "source": [
    "#### Loading Data"
   ]
  },
  {
   "cell_type": "code",
   "execution_count": 264,
   "metadata": {},
   "outputs": [],
   "source": [
    "domain_name = 'movie'\n",
    "with open(domain_name+'.jsonl', 'r') as file:\n",
    "    lines = file.readlines()\n",
    "\n",
    "raw_dataset = []\n",
    "\n",
    "for line in lines:\n",
    "    try:\n",
    "        data = json.loads(line.replace('\\'', '\\\"'))\n",
    "        raw_dataset.append(data)\n",
    "    except:\n",
    "        pass"
   ]
  },
  {
   "cell_type": "code",
   "execution_count": 265,
   "metadata": {},
   "outputs": [
    {
     "name": "stdout",
     "output_type": "stream",
     "text": [
      "dataset size is 506\n"
     ]
    }
   ],
   "source": [
    "raw_dataset_size = len(raw_dataset)\n",
    "print(f'dataset size is {raw_dataset_size}')"
   ]
  },
  {
   "cell_type": "markdown",
   "metadata": {},
   "source": [
    "#### Setting review ids/ extracting aspects"
   ]
  },
  {
   "cell_type": "code",
   "execution_count": 266,
   "metadata": {},
   "outputs": [],
   "source": [
    "aspects_set = set()"
   ]
  },
  {
   "cell_type": "code",
   "execution_count": 267,
   "metadata": {},
   "outputs": [],
   "source": [
    "for i, example in enumerate(raw_dataset):\n",
    "    example['review_id'] = i+1\n",
    "    aspects = list(example['aspects'].keys())\n",
    "    aspects_set.update(aspects)"
   ]
  },
  {
   "cell_type": "code",
   "execution_count": 268,
   "metadata": {},
   "outputs": [
    {
     "data": {
      "text/plain": [
       "{'بازی', 'داستان', 'صحنه', 'صدا', 'فیلمبرداری', 'موسیقی', 'کارگردانی'}"
      ]
     },
     "execution_count": 268,
     "metadata": {},
     "output_type": "execute_result"
    }
   ],
   "source": [
    "aspects_set"
   ]
  },
  {
   "cell_type": "code",
   "execution_count": 269,
   "metadata": {},
   "outputs": [
    {
     "data": {
      "text/plain": [
       "{'review': 'فیلمی پر کشش و دوست داشتنی   اما تلخ و آموزنده...   بازی آقای معادی اصلا در اندازه فیلم نبود و خانم جاوهریان هم گاهی به انچه باید می بود، نمی رسید.   بهترین بازیگر این فیلم، همان کودک جانسپرده بود که کاملا همراه بودو به خوبی خوابید...',\n",
       " 'sentiment': '1',\n",
       " 'category': ' ملبورن',\n",
       " 'aspects': {'بازی': '3'},\n",
       " 'review_id': 52}"
      ]
     },
     "execution_count": 269,
     "metadata": {},
     "output_type": "execute_result"
    }
   ],
   "source": [
    "raw_dataset[51]"
   ]
  },
  {
   "cell_type": "code",
   "execution_count": 270,
   "metadata": {},
   "outputs": [],
   "source": [
    "for entry in raw_dataset:\n",
    "    if 'category' not in entry:\n",
    "        print(entry['review_id'])\n",
    "        raise Exception(entry['review_id'] + \" does not have any category associated\")"
   ]
  },
  {
   "cell_type": "markdown",
   "metadata": {},
   "source": [
    "#### Defining Questions for aspects"
   ]
  },
  {
   "cell_type": "code",
   "execution_count": 271,
   "metadata": {},
   "outputs": [],
   "source": [
    "aspects_candidate_words = {\n",
    "    # For Foods\"\n",
    "    \"ارزش خرید\" : \"قیمت و ارزش خرید\",\n",
    "    \"بسته بندی\" : \"بسته بندی و نگهداری\",\n",
    "    \"ارسال\" : \"ارسال و حمل و نقل\",\n",
    "    \"کیفیت\" : \"کیفیت و تازگی\",\n",
    "    \"ارزش غذایی\" : \"سلامت و ارزش غذایی\",\n",
    "    \"طعم\" : \"عطر، بو، و طعم\",\n",
    "    # For Movies:\n",
    "    \"صدا\" : \"صداگذاری و جلوه های صوتی\",\n",
    "    \"موسیقی\" : \"موسیقی\",\n",
    "    \"داستان\" : \"داستان، فیلمنامه، دیالوگ ها و موضوع\",\n",
    "    \"صحنه\" : \"گریم، طراحی صحنه و جلوه های ویژه ی بصری\",\n",
    "    \"کارگردانی\" : \"تهیه، تدوین، کارگردانی و ساخت\",\n",
    "    \"فیلمبرداری\" : \"فیلمبرداری و تصویربرداری\",\n",
    "    \"بازی\" : \"شخصیت پردازی، بازیگردانی و بازی بازیگران\"\n",
    "}"
   ]
  },
  {
   "cell_type": "code",
   "execution_count": 272,
   "metadata": {},
   "outputs": [],
   "source": [
    "aspects_questions = {}\n",
    "for aspect in list(aspects_set):\n",
    "    aspects_questions[aspect] = f'نظر شما در مورد {aspects_candidate_words[aspect]} این محصول چیست؟'"
   ]
  },
  {
   "cell_type": "code",
   "execution_count": 273,
   "metadata": {},
   "outputs": [],
   "source": [
    "general_aspect_label = 'کلی'\n",
    "aspects_questions[general_aspect_label] = 'نظر شما به صورت کلی در مورد این محصول چیست؟'"
   ]
  },
  {
   "cell_type": "code",
   "execution_count": 274,
   "metadata": {},
   "outputs": [
    {
     "data": {
      "text/plain": [
       "{'فیلمبرداری': 'نظر شما در مورد فیلمبرداری و تصویربرداری این محصول چیست؟',\n",
       " 'صدا': 'نظر شما در مورد صداگذاری و جلوه های صوتی این محصول چیست؟',\n",
       " 'صحنه': 'نظر شما در مورد گریم، طراحی صحنه و جلوه های ویژه ی بصری این محصول چیست؟',\n",
       " 'کارگردانی': 'نظر شما در مورد تهیه، تدوین، کارگردانی و ساخت این محصول چیست؟',\n",
       " 'موسیقی': 'نظر شما در مورد موسیقی این محصول چیست؟',\n",
       " 'داستان': 'نظر شما در مورد داستان، فیلمنامه، دیالوگ ها و موضوع این محصول چیست؟',\n",
       " 'بازی': 'نظر شما در مورد شخصیت پردازی، بازیگردانی و بازی بازیگران این محصول چیست؟',\n",
       " 'کلی': 'نظر شما به صورت کلی در مورد این محصول چیست؟'}"
      ]
     },
     "execution_count": 274,
     "metadata": {},
     "output_type": "execute_result"
    }
   ],
   "source": [
    "aspects_questions"
   ]
  },
  {
   "cell_type": "markdown",
   "metadata": {},
   "source": [
    "### Spliting Data"
   ]
  },
  {
   "cell_type": "code",
   "execution_count": 275,
   "metadata": {},
   "outputs": [],
   "source": [
    "# CONSTANTS:\n",
    "split_portions = {'train':0.8,'dev':0.1,'test':0.1}\n",
    "assert(sum(split_portions.values())==1)\n",
    "NONE_LABEL = -3"
   ]
  },
  {
   "cell_type": "markdown",
   "metadata": {},
   "source": [
    "#### TRAIN TEST SPLIT SKLEARN"
   ]
  },
  {
   "cell_type": "code",
   "execution_count": 276,
   "metadata": {},
   "outputs": [],
   "source": [
    "X = []\n",
    "y = []\n",
    "for rec in raw_dataset:\n",
    "    X.append ({k:rec[k] for k in ('review','review_id','aspects','category') if k in rec})\n",
    "    y.append(rec['sentiment'])"
   ]
  },
  {
   "cell_type": "code",
   "execution_count": 277,
   "metadata": {},
   "outputs": [
    {
     "data": {
      "text/plain": [
       "({'review': 'یکی از دوستان اشاره خوبی داشتن   چقد موسیقی حماسی و بی مورد؟  فقط میتونن بگم این سوژه اگه به گروه و\\u200c کَست بهتری داده میشه نتیجه کار خیلی قابل قبول تر از این میشد',\n",
       "  'review_id': 1,\n",
       "  'aspects': {'موسیقی': '-1', 'بازی': '-1'},\n",
       "  'category': ' ماهورا'},\n",
       " '-1')"
      ]
     },
     "execution_count": 277,
     "metadata": {},
     "output_type": "execute_result"
    }
   ],
   "source": [
    "X[0],y[0]"
   ]
  },
  {
   "cell_type": "code",
   "execution_count": 279,
   "metadata": {},
   "outputs": [],
   "source": [
    "X_train, X_test, y_train, y_test = train_test_split(X, y, test_size=0.2, random_state=12, stratify=y)"
   ]
  },
  {
   "cell_type": "code",
   "execution_count": 280,
   "metadata": {
    "scrolled": true
   },
   "outputs": [],
   "source": [
    "X_train, X_valid, y_train, y_valid = train_test_split(X_train, y_train, test_size=0.11, random_state=12, stratify=y_train)"
   ]
  },
  {
   "cell_type": "code",
   "execution_count": 281,
   "metadata": {},
   "outputs": [
    {
     "data": {
      "text/plain": [
       "(359, 102, 45)"
      ]
     },
     "execution_count": 281,
     "metadata": {},
     "output_type": "execute_result"
    }
   ],
   "source": [
    "len(X_train),len(X_test),len(X_valid)"
   ]
  },
  {
   "cell_type": "code",
   "execution_count": 282,
   "metadata": {
    "scrolled": true
   },
   "outputs": [
    {
     "data": {
      "text/plain": [
       "({'review': 'بدترین بازی ها از بهترین بازیگرا در یکی از بدترین فیلم های جشنواره!',\n",
       "  'review_id': 56,\n",
       "  'aspects': {'بازی': '-2'},\n",
       "  'category': ' مردی بدون سایه'},\n",
       " '-2')"
      ]
     },
     "execution_count": 282,
     "metadata": {},
     "output_type": "execute_result"
    }
   ],
   "source": [
    "X_train[0],y_train[0]"
   ]
  },
  {
   "cell_type": "markdown",
   "metadata": {},
   "source": [
    "### calculating similarities:"
   ]
  },
  {
   "cell_type": "code",
   "execution_count": 283,
   "metadata": {},
   "outputs": [],
   "source": [
    "# bleu_avg = 0\n",
    "# for entry_1 in X_train:\n",
    "#     for entry_2 in X_test:\n",
    "#         bleu_avg += nltk.translate.bleu_score.sentence_bleu(references=[entry_1['review']],hypothesis=entry_2['review'])\n",
    "        \n",
    "# bleu_avg = bleu_avg / (len(X_train)*len(X_test))\n",
    "# print(f\"BLEU = {bleu_avg}\")"
   ]
  },
  {
   "cell_type": "markdown",
   "metadata": {},
   "source": [
    "#### Putting X and y together:"
   ]
  },
  {
   "cell_type": "code",
   "execution_count": 284,
   "metadata": {},
   "outputs": [],
   "source": [
    "raw_dataset_dic = dict()\n",
    "for entry in zip(X_train,y_train):\n",
    "    entry[0].update({'sentiment':entry[1]})\n",
    "    \n",
    "for entry in zip(X_test,y_test):\n",
    "    entry[0].update({'sentiment':entry[1]})\n",
    "    \n",
    "for entry in zip(X_valid,y_valid):\n",
    "    entry[0].update({'sentiment':entry[1]})"
   ]
  },
  {
   "cell_type": "code",
   "execution_count": 285,
   "metadata": {},
   "outputs": [],
   "source": [
    "raw_dataset_dic = {\n",
    "    'train': X_train,\n",
    "    'test': X_test,\n",
    "    'dev': X_valid\n",
    "}"
   ]
  },
  {
   "cell_type": "code",
   "execution_count": 286,
   "metadata": {},
   "outputs": [],
   "source": [
    "assert sum([len(dataset) for dataset in raw_dataset_dic.values()]) == raw_dataset_size"
   ]
  },
  {
   "cell_type": "markdown",
   "metadata": {},
   "source": [
    "#### Creating new QA-ABSA dataset"
   ]
  },
  {
   "cell_type": "code",
   "execution_count": 287,
   "metadata": {},
   "outputs": [
    {
     "data": {
      "text/plain": [
       "'test'"
      ]
     },
     "execution_count": 287,
     "metadata": {},
     "output_type": "execute_result"
    }
   ],
   "source": [
    "dataset_name"
   ]
  },
  {
   "cell_type": "code",
   "execution_count": 288,
   "metadata": {},
   "outputs": [],
   "source": [
    "def gen_question(aspect,aspects_questions,example,domain_name:str):\n",
    "    \n",
    "    if domain_name.lower()=='food':\n",
    "        question = aspects_questions[aspect].replace('محصول',example['category'])\n",
    "        \n",
    "    elif domain_name.lower()=='movie':\n",
    "        question = aspects_questions[aspect].replace('این محصول','فیلم ' + example['category'])\n",
    "\n",
    "    else:\n",
    "        raise Exception('Domain is not supported')\n",
    "        \n",
    "    return question"
   ]
  },
  {
   "cell_type": "code",
   "execution_count": 289,
   "metadata": {
    "scrolled": true
   },
   "outputs": [],
   "source": [
    "dataset_ABSA = {'train':list(),'dev':list(),'test':list()}\n",
    "for dataset_name, dataset in raw_dataset_dic.items():\n",
    "\n",
    "    for example in dataset:\n",
    "        \n",
    "        product_aspects = example['aspects'].keys()\n",
    "\n",
    "        #aspect sentiments\n",
    "        for aspect in aspects_set:\n",
    "            entry = {'review': example['review'],\n",
    "                     'review_id': str(example['review_id']),\n",
    "                     'question': gen_question(aspect,aspects_questions,example,domain_name),\n",
    "                     'category': example['category'],\n",
    "                     'aspect': aspect,\n",
    "                     'label': str(example['aspects'][aspect] if aspect in product_aspects else NONE_LABEL)\n",
    "                    }\n",
    "            \n",
    "            dataset_ABSA[dataset_name].append(entry)\n",
    "\n",
    "        # overal sentiment\n",
    "        entry = {'review': example['review'],\n",
    "                 'review_id': str(example['review_id']),\n",
    "                 'question': gen_question(general_aspect_label,aspects_questions,example,domain_name),\n",
    "                 'category': example['category'],\n",
    "                 'aspect': general_aspect_label,\n",
    "                 'label': str(example['sentiment'])\n",
    "                }\n",
    "        \n",
    "        dataset_ABSA[dataset_name].append(entry)"
   ]
  },
  {
   "cell_type": "code",
   "execution_count": 290,
   "metadata": {},
   "outputs": [
    {
     "data": {
      "text/plain": [
       "{'review': 'امشب برای بار دوم بر روی پرده سینما این فیلم رو دیدم، و چه بسا بیشتر از بار اول لذت بردم و حدس میزنم دفعه سومی هم در کار خواهد بود:)  به نظرم متفاوت ترین و بی تردید یکی از بهترین فیلمهای سینمای ایرانه.  فرصت تماشای این فیلم رو بر روی پرده از دست ندین!',\n",
       " 'review_id': '504',\n",
       " 'question': 'نظر شما در مورد موسیقی فیلم  مسخره\\u200cباز چیست؟',\n",
       " 'category': ' مسخره\\u200cباز',\n",
       " 'aspect': 'موسیقی',\n",
       " 'label': '-3'}"
      ]
     },
     "execution_count": 290,
     "metadata": {},
     "output_type": "execute_result"
    }
   ],
   "source": [
    "dataset_ABSA['train'][20]"
   ]
  },
  {
   "cell_type": "markdown",
   "metadata": {},
   "source": [
    "#### Adding ID labeles"
   ]
  },
  {
   "cell_type": "code",
   "execution_count": 291,
   "metadata": {},
   "outputs": [],
   "source": [
    "for dataset_name, dataset in dataset_ABSA.items():\n",
    "    for i, example in enumerate(dataset):\n",
    "        example['example_id'] = str(int(i+1))\n",
    "        example['guid'] = f'{domain_name}-{dataset_name}-r{example[\"review_id\"]}-e{example[\"example_id\"]}'"
   ]
  },
  {
   "cell_type": "markdown",
   "metadata": {},
   "source": [
    "#### Saving Data"
   ]
  },
  {
   "cell_type": "code",
   "execution_count": 292,
   "metadata": {},
   "outputs": [
    {
     "name": "stdout",
     "output_type": "stream",
     "text": [
      "DONE\n"
     ]
    }
   ],
   "source": [
    "for dataset_name, dataset in dataset_ABSA.items():\n",
    "    \n",
    "    with open(f'{domain_name}_{dataset_name}.jsonl', 'w') as f:\n",
    "        \n",
    "        for example in dataset:\n",
    "            \n",
    "#             f.write(\"%s\\n\" % annotation)\n",
    "            f.write(f'{example}\\n')\n",
    "print('DONE')"
   ]
  },
  {
   "cell_type": "markdown",
   "metadata": {},
   "source": [
    "### Merging the two datasets:"
   ]
  },
  {
   "cell_type": "code",
   "execution_count": 293,
   "metadata": {},
   "outputs": [],
   "source": [
    "for dataset_split_name in ['train','test','dev']:\n",
    "    with open (f'ABSA_Dataset_{dataset_split_name}.jsonl','w') as out_file:\n",
    "        for domain in ['food','movie']:\n",
    "            with open (f'{domain}_{dataset_split_name}.jsonl') as in_file:\n",
    "                for line in in_file.readlines():\n",
    "                    out_file.write(line.strip()+'\\n')"
   ]
  },
  {
   "cell_type": "code",
   "execution_count": null,
   "metadata": {},
   "outputs": [],
   "source": []
  }
 ],
 "metadata": {
  "kernelspec": {
   "display_name": "Python 3",
   "language": "python",
   "name": "python3"
  },
  "language_info": {
   "codemirror_mode": {
    "name": "ipython",
    "version": 3
   },
   "file_extension": ".py",
   "mimetype": "text/x-python",
   "name": "python",
   "nbconvert_exporter": "python",
   "pygments_lexer": "ipython3",
   "version": "3.7.8"
  }
 },
 "nbformat": 4,
 "nbformat_minor": 4
}
