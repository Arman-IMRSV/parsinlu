{
 "cells": [
  {
   "cell_type": "code",
   "execution_count": 1,
   "metadata": {},
   "outputs": [
    {
     "name": "stdout",
     "output_type": "stream",
     "text": [
      "\u001b[33mWARNING: The directory '/home/python_user/.cache/pip' or its parent directory is not owned or is not writable by the current user. The cache has been disabled. Check the permissions and owner of that directory. If executing pip with sudo, you may want sudo's -H flag.\u001b[0m\n",
      "Requirement already up-to-date: scikit-learn in /home/python_user/.pyenv/versions/3.7.2/lib/python3.7/site-packages (0.23.2)\n",
      "Requirement already satisfied, skipping upgrade: scipy>=0.19.1 in /home/python_user/.pyenv/versions/3.7.2/lib/python3.7/site-packages (from scikit-learn) (1.5.3)\n",
      "Requirement already satisfied, skipping upgrade: numpy>=1.13.3 in /home/python_user/.pyenv/versions/3.7.2/lib/python3.7/site-packages (from scikit-learn) (1.19.2)\n",
      "Requirement already satisfied, skipping upgrade: joblib>=0.11 in /home/python_user/.pyenv/versions/3.7.2/lib/python3.7/site-packages (from scikit-learn) (0.17.0)\n",
      "Requirement already satisfied, skipping upgrade: threadpoolctl>=2.0.0 in /home/python_user/.pyenv/versions/3.7.2/lib/python3.7/site-packages (from scikit-learn) (2.1.0)\n"
     ]
    }
   ],
   "source": [
    "!pip install -U scikit-learn"
   ]
  },
  {
   "cell_type": "code",
   "execution_count": 40,
   "metadata": {},
   "outputs": [],
   "source": [
    "import json\n",
    "from sklearn.model_selection import train_test_split\n",
    "import random"
   ]
  },
  {
   "cell_type": "markdown",
   "metadata": {},
   "source": [
    "#### Loading Data"
   ]
  },
  {
   "cell_type": "code",
   "execution_count": 41,
   "metadata": {},
   "outputs": [],
   "source": [
    "with open('food.jsonl', 'r') as file:\n",
    "    lines = file.readlines()\n",
    "\n",
    "raw_dataset = []\n",
    "\n",
    "for line in lines:\n",
    "    data = json.loads(line.replace('\\'', '\\\"'))\n",
    "    raw_dataset.append(data)"
   ]
  },
  {
   "cell_type": "code",
   "execution_count": 42,
   "metadata": {},
   "outputs": [
    {
     "name": "stdout",
     "output_type": "stream",
     "text": [
      "dataset size is 1437\n"
     ]
    }
   ],
   "source": [
    "raw_dataset_size = len(raw_dataset)\n",
    "print(f'dataset size is {raw_dataset_size}')"
   ]
  },
  {
   "cell_type": "markdown",
   "metadata": {},
   "source": [
    "#### Giving reviews/ extracting aspects"
   ]
  },
  {
   "cell_type": "code",
   "execution_count": 43,
   "metadata": {},
   "outputs": [],
   "source": [
    "aspects_set = set()"
   ]
  },
  {
   "cell_type": "code",
   "execution_count": 44,
   "metadata": {},
   "outputs": [],
   "source": [
    "for i, example in enumerate(raw_dataset):\n",
    "    example['review_id'] = i+1\n",
    "    aspects = list(example['aspects'].keys())\n",
    "    aspects_set.update(aspects)"
   ]
  },
  {
   "cell_type": "code",
   "execution_count": 45,
   "metadata": {},
   "outputs": [
    {
     "data": {
      "text/plain": [
       "{'ارزش خرید', 'ارزش غذایی', 'ارسال', 'بسته بندی', 'طعم', 'کیفیت'}"
      ]
     },
     "execution_count": 45,
     "metadata": {},
     "output_type": "execute_result"
    }
   ],
   "source": [
    "aspects_set"
   ]
  },
  {
   "cell_type": "code",
   "execution_count": 46,
   "metadata": {},
   "outputs": [
    {
     "data": {
      "text/plain": [
       "{'review': 'طعم خیلی خوبی داره و توضیحات کالا کاملا با خود محصول مطابقت داشت',\n",
       " 'sentiment': 2,\n",
       " 'aspects': {'طعم': 2},\n",
       " 'review_id': 1}"
      ]
     },
     "execution_count": 46,
     "metadata": {},
     "output_type": "execute_result"
    }
   ],
   "source": [
    "raw_dataset[0]"
   ]
  },
  {
   "cell_type": "markdown",
   "metadata": {},
   "source": [
    "#### Defining Questions for aspects"
   ]
  },
  {
   "cell_type": "code",
   "execution_count": 47,
   "metadata": {},
   "outputs": [],
   "source": [
    "aspects_questions = {}"
   ]
  },
  {
   "cell_type": "code",
   "execution_count": 48,
   "metadata": {},
   "outputs": [],
   "source": [
    "for aspect in list(aspects_set):\n",
    "    aspects_questions[aspect] = f'نظر شما در مورد {aspect} محصول چیست؟'"
   ]
  },
  {
   "cell_type": "code",
   "execution_count": 49,
   "metadata": {},
   "outputs": [],
   "source": [
    "general_aspect_label = 'کلی'\n",
    "aspects_questions[general_aspect_label] = 'نظر شما به صورت کلی در مورد محصول چیست؟'"
   ]
  },
  {
   "cell_type": "code",
   "execution_count": 50,
   "metadata": {},
   "outputs": [
    {
     "data": {
      "text/plain": [
       "{'کیفیت': 'نظر شما در مورد کیفیت محصول چیست؟',\n",
       " 'ارسال': 'نظر شما در مورد ارسال محصول چیست؟',\n",
       " 'بسته بندی': 'نظر شما در مورد بسته بندی محصول چیست؟',\n",
       " 'ارزش خرید': 'نظر شما در مورد ارزش خرید محصول چیست؟',\n",
       " 'ارزش غذایی': 'نظر شما در مورد ارزش غذایی محصول چیست؟',\n",
       " 'طعم': 'نظر شما در مورد طعم محصول چیست؟',\n",
       " 'کلی': 'نظر شما به صورت کلی در مورد محصول چیست؟'}"
      ]
     },
     "execution_count": 50,
     "metadata": {},
     "output_type": "execute_result"
    }
   ],
   "source": [
    "aspects_questions"
   ]
  },
  {
   "cell_type": "markdown",
   "metadata": {},
   "source": [
    "#### Spliting Data"
   ]
  },
  {
   "cell_type": "code",
   "execution_count": 51,
   "metadata": {},
   "outputs": [],
   "source": [
    "# CONSTANTS:\n",
    "split_portions = {'train':0.8,'dev':0.1,'test':0.1}\n",
    "assert(sum(split_portions.values())==1)\n",
    "NONE_LABEL = -3"
   ]
  },
  {
   "cell_type": "code",
   "execution_count": 52,
   "metadata": {},
   "outputs": [],
   "source": [
    "raw_dataset_size = len(raw_dataset)\n",
    "\n",
    "split_indices = dict()\n",
    "split_indices['train'] = (0,round(split_portions['train']*raw_dataset_size))\n",
    "\n",
    "split_indices['dev'] = (\n",
    "    round(split_portions['train']*raw_dataset_size),\n",
    "    round((split_portions['train']+split_portions['dev'])*raw_dataset_size)\n",
    ")\n",
    "\n",
    "split_indices['test'] = (\n",
    "    round((split_portions['train']+split_portions['dev'])*raw_dataset_size),raw_dataset_size\n",
    ")"
   ]
  },
  {
   "cell_type": "code",
   "execution_count": 53,
   "metadata": {},
   "outputs": [],
   "source": [
    "raw_dataset_dic = {\n",
    "    'train': raw_dataset[split_indices['train'][0]:split_indices['train'][1]],\n",
    "    'dev': raw_dataset[split_indices['dev'][0]:split_indices['dev'][1]],\n",
    "    'test': raw_dataset[split_indices['test'][0]:split_indices['test'][1]]\n",
    "}"
   ]
  },
  {
   "cell_type": "code",
   "execution_count": 54,
   "metadata": {},
   "outputs": [],
   "source": [
    "assert sum([len(dataset) for dataset in raw_dataset_dic.values()]) == raw_dataset_size"
   ]
  },
  {
   "cell_type": "markdown",
   "metadata": {},
   "source": [
    "#### Creating new QA-ABSA dataset"
   ]
  },
  {
   "cell_type": "code",
   "execution_count": 55,
   "metadata": {},
   "outputs": [],
   "source": [
    "dataset_ABSA = {'train':list(),'dev':list(),'test':list()}\n",
    "for dataset_name, dataset in raw_dataset_dic.items():\n",
    "\n",
    "    for example in dataset:\n",
    "        \n",
    "        product_aspects = example['aspects'].keys()\n",
    "\n",
    "        #aspect sentiments\n",
    "        for aspect in aspects_set:\n",
    "            entry = {'review': example['review'],\n",
    "                     'review_id': str(example['review_id']),\n",
    "                     'question': aspects_questions[aspect],\n",
    "                     'aspect': aspect,\n",
    "                     'label': str(example['aspects'][aspect] if aspect in product_aspects else NONE_LABEL)\n",
    "                    }\n",
    "            \n",
    "            dataset_ABSA[dataset_name].append(entry)\n",
    "\n",
    "        # overal sentiment\n",
    "        entry = {'review': example['review'],\n",
    "                 'review_id': str(example['review_id']),\n",
    "                 'question': aspects_questions[general_aspect_label],\n",
    "                 'aspect': general_aspect_label,\n",
    "                 'label': str(example['sentiment'])\n",
    "                }\n",
    "        \n",
    "        dataset_ABSA[dataset_name].append(entry)"
   ]
  },
  {
   "cell_type": "markdown",
   "metadata": {},
   "source": [
    "#### Adding ID labeles"
   ]
  },
  {
   "cell_type": "code",
   "execution_count": 56,
   "metadata": {},
   "outputs": [],
   "source": [
    "for dataset_name, dataset in dataset_ABSA.items():\n",
    "    for i, example in enumerate(dataset):\n",
    "        example['example_id'] = str(int(i+1))\n",
    "        example['guid'] = f'{dataset_name}-r{example[\"review_id\"]}-e{example[\"example_id\"]}'"
   ]
  },
  {
   "cell_type": "markdown",
   "metadata": {},
   "source": [
    "#### Saving Data"
   ]
  },
  {
   "cell_type": "code",
   "execution_count": 57,
   "metadata": {},
   "outputs": [
    {
     "name": "stdout",
     "output_type": "stream",
     "text": [
      "DONE\n"
     ]
    }
   ],
   "source": [
    "for dataset_name, dataset in dataset_ABSA.items():\n",
    "    \n",
    "    with open(f'food_{dataset_name}.jsonl', 'w') as f:\n",
    "        \n",
    "        for example in dataset:\n",
    "            \n",
    "#             f.write(\"%s\\n\" % annotation)\n",
    "            f.write(f'{example}\\n')\n",
    "print('DONE')"
   ]
  },
  {
   "cell_type": "code",
   "execution_count": null,
   "metadata": {},
   "outputs": [],
   "source": []
  }
 ],
 "metadata": {
  "kernelspec": {
   "display_name": "Python 3",
   "language": "python",
   "name": "python3"
  },
  "language_info": {
   "codemirror_mode": {
    "name": "ipython",
    "version": 3
   },
   "file_extension": ".py",
   "mimetype": "text/x-python",
   "name": "python",
   "nbconvert_exporter": "python",
   "pygments_lexer": "ipython3",
   "version": "3.7.2"
  }
 },
 "nbformat": 4,
 "nbformat_minor": 4
}
